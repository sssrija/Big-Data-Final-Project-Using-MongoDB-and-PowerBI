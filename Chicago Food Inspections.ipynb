{
 "cells": [
  {
   "cell_type": "markdown",
   "id": "a199a7b2-b9b7-4a22-9172-d1adcbe078f8",
   "metadata": {},
   "source": [
    "## Loading Data"
   ]
  },
  {
   "cell_type": "code",
   "execution_count": 1,
   "id": "297c7b1d-42f6-42aa-b2b8-c2c79dab259a",
   "metadata": {},
   "outputs": [],
   "source": [
    "import pandas as pd\n",
    "import numpy as np \n",
    "from pymongo import MongoClient\n",
    "\n",
    "df = pd.read_csv('Chicago Food Inspections.csv')"
   ]
  },
  {
   "cell_type": "code",
   "execution_count": 2,
   "id": "ea8b9813-c4d3-4d6c-b53f-1bb7226d5338",
   "metadata": {},
   "outputs": [
    {
     "data": {
      "text/plain": [
       "(100049, 14)"
      ]
     },
     "execution_count": 2,
     "metadata": {},
     "output_type": "execute_result"
    }
   ],
   "source": [
    "df.shape"
   ]
  },
  {
   "cell_type": "code",
   "execution_count": 3,
   "id": "6b1b4af4-7239-4664-9cfa-d5bcedb55f86",
   "metadata": {},
   "outputs": [
    {
     "data": {
      "text/plain": [
       "Inspection ID          0\n",
       "DBA Name               0\n",
       "AKA Name             686\n",
       "License                5\n",
       "Facility Type        852\n",
       "Risk                  21\n",
       "Address                0\n",
       "City                  72\n",
       "State                 37\n",
       "Zip                   12\n",
       "Inspection Date        0\n",
       "Inspection Type        1\n",
       "Results                0\n",
       "Violations         25006\n",
       "dtype: int64"
      ]
     },
     "execution_count": 3,
     "metadata": {},
     "output_type": "execute_result"
    }
   ],
   "source": [
    "df.isnull().sum()"
   ]
  },
  {
   "cell_type": "code",
   "execution_count": 4,
   "id": "9cb4f7bb-50f7-4e41-9dfe-ca7bb662cd22",
   "metadata": {},
   "outputs": [
    {
     "name": "stdout",
     "output_type": "stream",
     "text": [
      "<class 'pandas.core.frame.DataFrame'>\n",
      "RangeIndex: 100049 entries, 0 to 100048\n",
      "Data columns (total 14 columns):\n",
      " #   Column           Non-Null Count   Dtype  \n",
      "---  ------           --------------   -----  \n",
      " 0   Inspection ID    100049 non-null  int64  \n",
      " 1   DBA Name         100049 non-null  object \n",
      " 2   AKA Name         99363 non-null   object \n",
      " 3   License          100044 non-null  float64\n",
      " 4   Facility Type    99197 non-null   object \n",
      " 5   Risk             100028 non-null  object \n",
      " 6   Address          100049 non-null  object \n",
      " 7   City             99977 non-null   object \n",
      " 8   State            100012 non-null  object \n",
      " 9   Zip              100037 non-null  float64\n",
      " 10  Inspection Date  100049 non-null  object \n",
      " 11  Inspection Type  100048 non-null  object \n",
      " 12  Results          100049 non-null  object \n",
      " 13  Violations       75043 non-null   object \n",
      "dtypes: float64(2), int64(1), object(11)\n",
      "memory usage: 10.7+ MB\n"
     ]
    }
   ],
   "source": [
    "df.info()"
   ]
  },
  {
   "cell_type": "markdown",
   "id": "7bd17afa-ead8-44e8-9d5c-383c0f873c77",
   "metadata": {},
   "source": [
    "## Data cleaning"
   ]
  },
  {
   "cell_type": "code",
   "execution_count": 5,
   "id": "ba68b87a-2dea-4e2c-9457-ec4308007892",
   "metadata": {},
   "outputs": [
    {
     "name": "stdout",
     "output_type": "stream",
     "text": [
      "Null values after cleaning:\n",
      "Inspection ID      0\n",
      "DBA Name           0\n",
      "AKA Name           0\n",
      "License            0\n",
      "Facility Type      0\n",
      "Risk               0\n",
      "Address            0\n",
      "City               0\n",
      "State              0\n",
      "Zip                0\n",
      "Inspection Date    0\n",
      "Inspection Type    0\n",
      "Results            0\n",
      "Violations         0\n",
      "dtype: int64\n"
     ]
    }
   ],
   "source": [
    "df.columns = df.columns.str.strip()\n",
    "\n",
    "df['AKA Name'].fillna('Unknown', inplace=True)\n",
    "df['Facility Type'].fillna('Unknown', inplace=True)\n",
    "df['Risk'].fillna('Unknown', inplace=True)\n",
    "df['City'].fillna('Unknown', inplace=True)\n",
    "df['State'].fillna('Unknown', inplace=True)\n",
    "df['Inspection Type'].fillna('Unknown', inplace=True)\n",
    "df['Violations'].fillna('None', inplace=True)\n",
    "\n",
    "if 'License' in df.columns:\n",
    "    df['License'].fillna(0, inplace=True) \n",
    "else:\n",
    "    print(\"Column 'License' not found in the DataFrame.\")\n",
    "\n",
    "if 'Zip' in df.columns:\n",
    "    df['Zip'].fillna(df['Zip'].median(), inplace=True)  \n",
    "else:\n",
    "    print(\"Column 'Zip' not found in the DataFrame.\")\n",
    "\n",
    "print(\"Null values after cleaning:\")\n",
    "print(df.isnull().sum())"
   ]
  },
  {
   "cell_type": "markdown",
   "id": "fda384e7-f69c-400e-8e4f-ec8dacd1a0f8",
   "metadata": {},
   "source": [
    "## Connect to MongoDB"
   ]
  },
  {
   "cell_type": "code",
   "execution_count": 6,
   "id": "38046a90-d48a-4f6d-a2e9-aecc5fdf0419",
   "metadata": {},
   "outputs": [
    {
     "name": "stdout",
     "output_type": "stream",
     "text": [
      "Data successfully inserted into MongoDB.\n"
     ]
    }
   ],
   "source": [
    "client = MongoClient(\"mongodb://localhost:27017/\")\n",
    "db = client['food_inspections_db']\n",
    "collection = db['inspections']\n",
    "\n",
    "# Insert data into MongoDB\n",
    "collection.insert_many(df.to_dict(orient='records'))\n",
    "print(\"Data successfully inserted into MongoDB.\")"
   ]
  },
  {
   "cell_type": "markdown",
   "id": "cfe943cb-05f1-465e-975d-7d037a6d7f72",
   "metadata": {},
   "source": [
    "## Check the shape of the dataset"
   ]
  },
  {
   "cell_type": "code",
   "execution_count": 7,
   "id": "e461746e-0d11-48c5-9894-eec8d00b556f",
   "metadata": {},
   "outputs": [
    {
     "name": "stdout",
     "output_type": "stream",
     "text": [
      "Rows: 100049, Columns: 14\n"
     ]
    }
   ],
   "source": [
    "print(f\"Rows: {df.shape[0]}, Columns: {df.shape[1]}\")"
   ]
  },
  {
   "cell_type": "markdown",
   "id": "a53b31d5-4906-4b16-a76a-12055975426f",
   "metadata": {},
   "source": [
    "## Aggregated dataset"
   ]
  },
  {
   "cell_type": "code",
   "execution_count": 8,
   "id": "8e1339b2-eea8-44fd-8cb6-c6e0d548a927",
   "metadata": {},
   "outputs": [
    {
     "name": "stdout",
     "output_type": "stream",
     "text": [
      "\n",
      "Top 5 Records of Aggregated Data:\n",
      "       _id  count\n",
      "0  1588628      6\n",
      "1  2081539      6\n",
      "2  1464957      6\n",
      "3  2286169      6\n",
      "4  2009361      6\n"
     ]
    }
   ],
   "source": [
    "pipeline = [\n",
    "    {\"$group\": {\"_id\": \"$Inspection ID\", \"count\": {\"$sum\": 1}}},  \n",
    "    {\"$sort\": {\"count\": -1}},  \n",
    "    {\"$limit\": 5} \n",
    "]\n",
    "\n",
    "aggregated_data = collection.aggregate(pipeline)\n",
    "aggregated_df = pd.DataFrame(list(aggregated_data))\n",
    "print(\"\\nTop 5 Records of Aggregated Data:\")\n",
    "print(aggregated_df)"
   ]
  }
 ],
 "metadata": {
  "kernelspec": {
   "display_name": "Python 3 (ipykernel)",
   "language": "python",
   "name": "python3"
  },
  "language_info": {
   "codemirror_mode": {
    "name": "ipython",
    "version": 3
   },
   "file_extension": ".py",
   "mimetype": "text/x-python",
   "name": "python",
   "nbconvert_exporter": "python",
   "pygments_lexer": "ipython3",
   "version": "3.8.10"
  }
 },
 "nbformat": 4,
 "nbformat_minor": 5
}
